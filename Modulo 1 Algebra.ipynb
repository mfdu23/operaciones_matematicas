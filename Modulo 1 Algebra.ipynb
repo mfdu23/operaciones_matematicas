{
 "cells": [
  {
   "cell_type": "code",
   "execution_count": 17,
   "id": "e5e06639",
   "metadata": {},
   "outputs": [],
   "source": [
    "import numpy as np"
   ]
  },
  {
   "cell_type": "code",
   "execution_count": 18,
   "id": "11cf1321",
   "metadata": {},
   "outputs": [],
   "source": [
    "A = [[1,2,3],[4,5,6],[7,8,9]]\n",
    "B = [[9,8,7],[6,5,4],[3,2,1]]\n",
    "C = [[1,2],[3,4],[5,6]]"
   ]
  },
  {
   "cell_type": "code",
   "execution_count": 19,
   "id": "35f0a85d",
   "metadata": {},
   "outputs": [],
   "source": [
    "def determinante_matriz(A):\n",
    "    return np.linalg.det(A)"
   ]
  },
  {
   "cell_type": "code",
   "execution_count": 20,
   "id": "09c15f66",
   "metadata": {},
   "outputs": [],
   "source": [
    "def inversa_matriz(A):\n",
    "    return np.linalg.inv(A)"
   ]
  },
  {
   "cell_type": "code",
   "execution_count": 21,
   "id": "db3803fc",
   "metadata": {},
   "outputs": [
    {
     "name": "stdout",
     "output_type": "stream",
     "text": [
      "0.0\n"
     ]
    }
   ],
   "source": [
    "print(determinante_matriz(A))"
   ]
  },
  {
   "cell_type": "code",
   "execution_count": 22,
   "id": "e87c822f",
   "metadata": {},
   "outputs": [
    {
     "name": "stdout",
     "output_type": "stream",
     "text": [
      "0.0\n"
     ]
    }
   ],
   "source": [
    "print(determinante_matriz(B))"
   ]
  },
  {
   "cell_type": "code",
   "execution_count": 23,
   "id": "fa3cd481",
   "metadata": {},
   "outputs": [],
   "source": [
    "D = [[2,2,-5], [3,-3,9], [3,4,3]]"
   ]
  },
  {
   "cell_type": "code",
   "execution_count": 24,
   "id": "3ad81f20",
   "metadata": {},
   "outputs": [
    {
     "name": "stdout",
     "output_type": "stream",
     "text": [
      "[[ 0.28301887  0.16352201 -0.01886792]\n",
      " [-0.11320755 -0.13207547  0.20754717]\n",
      " [-0.13207547  0.01257862  0.0754717 ]]\n"
     ]
    }
   ],
   "source": [
    "print(inversa_matriz(D))"
   ]
  },
  {
   "cell_type": "code",
   "execution_count": 25,
   "id": "f2350791",
   "metadata": {},
   "outputs": [
    {
     "name": "stdout",
     "output_type": "stream",
     "text": [
      "-159.0\n"
     ]
    }
   ],
   "source": [
    "print(determinante_matriz(D))"
   ]
  },
  {
   "cell_type": "code",
   "execution_count": 26,
   "id": "afeeb1b1",
   "metadata": {},
   "outputs": [],
   "source": [
    "import numpy as np\n",
    "\n",
    "A = np.array([[2, 3, -1], [4, 1, 2], [-2, 5, 3]])\n",
    "\n",
    "B = np.array([1, 5, 0])"
   ]
  },
  {
   "cell_type": "code",
   "execution_count": 27,
   "id": "bab1030f",
   "metadata": {},
   "outputs": [
    {
     "name": "stdout",
     "output_type": "stream",
     "text": [
      "0.9166666666666666 -0.04761904761904769 0.6904761904761906\n"
     ]
    }
   ],
   "source": [
    "soluciones = np.linalg.solve(A, B)\n",
    "\n",
    "print(soluciones[0], soluciones[1], soluciones[2])"
   ]
  },
  {
   "cell_type": "code",
   "execution_count": 28,
   "id": "e9565efd",
   "metadata": {},
   "outputs": [],
   "source": [
    "import numpy as np"
   ]
  },
  {
   "cell_type": "code",
   "execution_count": 29,
   "id": "5f15b48a",
   "metadata": {},
   "outputs": [],
   "source": [
    "def transform_vector(vector, transformation_matrix):\n",
    "    return np.dot(transformation_matrix, vector)"
   ]
  },
  {
   "cell_type": "code",
   "execution_count": 30,
   "id": "1cc3db79",
   "metadata": {},
   "outputs": [],
   "source": [
    "vector_r2=np.array([1, 2])\n",
    "transformation_matrix = np.array([[1, 0], [0, 1], [1, 1]])"
   ]
  },
  {
   "cell_type": "code",
   "execution_count": 31,
   "id": "1e1d3e5f",
   "metadata": {},
   "outputs": [],
   "source": [
    "transformed_vector_r3 = transform_vector(vector_r2, transformation_matrix)"
   ]
  },
  {
   "cell_type": "code",
   "execution_count": 32,
   "id": "e5603852",
   "metadata": {},
   "outputs": [
    {
     "name": "stdout",
     "output_type": "stream",
     "text": [
      "[1 2]\n",
      "[[1 0]\n",
      " [0 1]\n",
      " [1 1]]\n",
      "[1 2 3]\n"
     ]
    }
   ],
   "source": [
    "print(vector_r2)\n",
    "print(transformation_matrix)\n",
    "print(transformed_vector_r3)"
   ]
  },
  {
   "cell_type": "code",
   "execution_count": 33,
   "id": "f91dab02",
   "metadata": {},
   "outputs": [],
   "source": [
    "import numpy as np"
   ]
  },
  {
   "cell_type": "code",
   "execution_count": 34,
   "id": "a638441f",
   "metadata": {},
   "outputs": [],
   "source": [
    "def transform_vector(vector, transformation_matrix):\n",
    "    return np.dot(transformation_matrix, vector)"
   ]
  },
  {
   "cell_type": "code",
   "execution_count": 35,
   "id": "8d01f684",
   "metadata": {},
   "outputs": [],
   "source": [
    "vector_r2 = np.array([1, 2])\n",
    "transformation_matrix = np.array([[1, 0], [0, 1], [1, 1]])"
   ]
  },
  {
   "cell_type": "code",
   "execution_count": null,
   "id": "a6a0ac66",
   "metadata": {},
   "outputs": [],
   "source": [
    "transformed_vector_r3 = transform_vector(vector_r2, transformation_matrix)"
   ]
  },
  {
   "cell_type": "code",
   "execution_count": null,
   "id": "a5dfb33a",
   "metadata": {},
   "outputs": [],
   "source": [
    "print(vector_r2)\n",
    "print(transformation_matrix)\n",
    "print(transformed_vector_r3)"
   ]
  }
 ],
 "metadata": {
  "kernelspec": {
   "display_name": "Python 3",
   "language": "python",
   "name": "python3"
  },
  "language_info": {
   "codemirror_mode": {
    "name": "ipython",
    "version": 3
   },
   "file_extension": ".py",
   "mimetype": "text/x-python",
   "name": "python",
   "nbconvert_exporter": "python",
   "pygments_lexer": "ipython3",
   "version": "3.10.5"
  }
 },
 "nbformat": 4,
 "nbformat_minor": 5
}
