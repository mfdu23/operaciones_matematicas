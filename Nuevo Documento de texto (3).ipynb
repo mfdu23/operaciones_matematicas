{
 "cells": [
  {
   "cell_type": "code",
   "execution_count": null,
   "id": "c3e24dba",
   "metadata": {},
   "outputs": [],
   "source": [
    "import numpy as np\n",
    "import matplotlib.pyplot as plt\n",
    "from mpl_toolkits.mplot3d import Axes3D\n"
   ]
  },
  {
   "cell_type": "code",
   "execution_count": null,
   "id": "b9320f77",
   "metadata": {},
   "outputs": [],
   "source": [
    "import dis\n",
    "\n",
    "\n",
    "def distancia_plano(A,B):\n",
    "    return np.sqrt((B[0] - A[0])**2 + (B[1] - A[1])**2)\n",
    "\n",
    "def distancia_espacio(C, D):\n",
    "    return np.sqrt((D[0] - C[0])**2 + (D[1] - C[1])**2 + (D[2] - C[2])**2)\n",
    "\n",
    "A=np.array([1, 2])\n",
    "B=np.array([4, 6])\n",
    "\n",
    "C=np.array([1, 2, 3])\n",
    "D=np.array([4, 6, 8])\n",
    "\n",
    "distancia_AB=distancia_plano(A, B)\n",
    "distancia_CD=distancia_espacio(C, D)\n",
    "\n",
    "print(distancia_AB)\n",
    "print(distancia_CD)"
   ]
  }
 ],
 "metadata": {
  "kernelspec": {
   "display_name": "Python 3",
   "language": "python",
   "name": "python3"
  },
  "language_info": {
   "codemirror_mode": {
    "name": "ipython",
    "version": 3
   },
   "file_extension": ".py",
   "mimetype": "text/x-python",
   "name": "python",
   "nbconvert_exporter": "python",
   "pygments_lexer": "ipython3",
   "version": "3.10.5"
  }
 },
 "nbformat": 4,
 "nbformat_minor": 5
}
