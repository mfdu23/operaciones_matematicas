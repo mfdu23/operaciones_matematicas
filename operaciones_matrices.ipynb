{
 "cells": [
  {
   "cell_type": "code",
   "execution_count": 1,
   "id": "f560bad8",
   "metadata": {},
   "outputs": [],
   "source": [
    "def suma_matrices(A,B):\n",
    "\n",
    "    filas = len(A)\n",
    "    columnas = len(A[0])\n",
    "    C = [[0 for _ in range(columnas)] for _ in range(filas)]\n",
    "    for i in range(filas):\n",
    "        for j in range(columnas):\n",
    "            C[i][j] = A[i][j] + B[i][j]\n",
    "\n",
    "    return C\n",
    "\n",
    "def resta_matrices(A,B):\n",
    "\n",
    "    filas = len(A)\n",
    "    columnas = len(A[0])\n",
    "    C = [[0 for _ in range(columnas)] for _ in range(filas)]\n",
    "    for i in range(filas):\n",
    "        for j in range(columnas):\n",
    "            C[i][j] = A[i][j] - B[i][j]\n",
    "\n",
    "    return C\n",
    "\n",
    "def producto_matrices(A,B):\n",
    "    filas_A = len(A)\n",
    "    columnas_A = len(A[0])\n",
    "    filas_B = len(B)\n",
    "    columnas_B = len(B[0])\n",
    "\n",
    "    if columnas_A != filas_B:\n",
    "        raise ValueError(\"El número de columnas de A debe ser igual al número de filas de B\")\n",
    "\n",
    "    C = [[0 for _ in range(columnas_B)] for _ in range(filas_A)]\n",
    "    for i in range(filas_A):\n",
    "        for j in range(columnas_B):\n",
    "            for k in range(columnas_A):\n",
    "                C[i][j] += A[i][k] * B[k][j]\n",
    "\n",
    "    return C"
   ]
  },
  {
   "cell_type": "code",
   "execution_count": 2,
   "id": "c9f84092",
   "metadata": {},
   "outputs": [
    {
     "name": "stdout",
     "output_type": "stream",
     "text": [
      "[[10, 10, 10], [10, 10, 10], [10, 10, 10]]\n",
      "[[-8, -6, -4], [-2, 0, 2], [4, 6, 8]]\n",
      "[[22, 28], [49, 64], [76, 100]]\n"
     ]
    }
   ],
   "source": [
    "A = [[1, 2, 3], [4, 5, 6], [7, 8, 9]]\n",
    "B = [[9, 8, 7], [6, 5, 4], [3, 2, 1]]\n",
    "C = [[1,2], [3,4], [5,6]]\n",
    "\n",
    "print(suma_matrices(A, B))\n",
    "print(resta_matrices(A, B))\n",
    "print(producto_matrices(A, C))"
   ]
  }
 ],
 "metadata": {
  "kernelspec": {
   "display_name": "Python 3",
   "language": "python",
   "name": "python3"
  },
  "language_info": {
   "codemirror_mode": {
    "name": "ipython",
    "version": 3
   },
   "file_extension": ".py",
   "mimetype": "text/x-python",
   "name": "python",
   "nbconvert_exporter": "python",
   "pygments_lexer": "ipython3",
   "version": "3.10.5"
  }
 },
 "nbformat": 4,
 "nbformat_minor": 5
}
